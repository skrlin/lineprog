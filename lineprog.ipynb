{
 "cells": [
  {
   "cell_type": "markdown",
   "metadata": {},
   "source": [
    "### 方法1: 使用linprog函数进行求解:\n",
    "下面所有的题目都以第九题第一问作为例子"
   ]
  },
  {
   "cell_type": "code",
   "execution_count": 5,
   "metadata": {
    "scrolled": true
   },
   "outputs": [
    {
     "name": "stdout",
     "output_type": "stream",
     "text": [
      "     con: array([], dtype=float64)\n",
      "     fun: -294.0\n",
      " message: 'Optimization terminated successfully.'\n",
      "     nit: 3\n",
      "   slack: array([0., 0.])\n",
      "  status: 0\n",
      " success: True\n",
      "       x: array([36.,  0.,  6.])\n"
     ]
    }
   ],
   "source": [
    "import numpy as np\n",
    "from scipy import optimize\n",
    "\n",
    "C = np.array([6,14,13])\n",
    "A_UB = np.array([[1,4,2],[1,2,4]]) #不等式约束\n",
    "B_UB = np.array([48,60])  \n",
    "res = optimize.linprog(-C,A_UB,B_UB,method='simplex')\n",
    "print(res)"
   ]
  },
  {
   "cell_type": "markdown",
   "metadata": {},
   "source": [
    "### 手动实现"
   ]
  },
  {
   "cell_type": "code",
   "execution_count": 9,
   "metadata": {},
   "outputs": [
    {
     "name": "stdout",
     "output_type": "stream",
     "text": [
      "x0=35.99999999999999\n",
      "x1=0\n",
      "x2=6.000000000000002\n",
      "x3=0\n",
      "x4=0\n",
      "result = -294.0\n"
     ]
    }
   ],
   "source": [
    "import numpy as np\n",
    "#matrix为转化为标准型后的矩阵\n",
    "matrix = np.array([[1,4,2,1,0,48],[1,2,4,0,1,60],[6,14,13,0,0,0]],dtype=np.float)\n",
    "(bn,cn) = matrix.shape\n",
    "s = list(range(cn-bn,cn-1))\n",
    "\n",
    "def linprog():\n",
    "    while max(matrix[-1][:-1]) > 0:  #只要有一个还是\n",
    "        Delteidx = np.argmax(matrix[-1][:-1])\n",
    "        Thitaidx = np.argmin(matrix[:-1,-1]/matrix[:-1,Delteidx])\n",
    "        s[Thitaidx] = Delteidx\n",
    "        matrix[Thitaidx] /= matrix[Thitaidx][Delteidx]\n",
    "        for i in range(bn):\n",
    "            if i != Thitaidx:\n",
    "                matrix[i] -= matrix[i][Delteidx] * matrix[Thitaidx]\n",
    "\n",
    "linprog()\n",
    "for i in range(cn-1):\n",
    "    print(\"x{}={}\".format(i,matrix[s.index(i)][-1] if i in s else 0))\n",
    "print(\"result = {}\".format(matrix[-1][-1]))"
   ]
  }
 ],
 "metadata": {
  "kernelspec": {
   "display_name": "Python [conda env:pytorch]",
   "language": "python",
   "name": "conda-env-pytorch-py"
  },
  "language_info": {
   "codemirror_mode": {
    "name": "ipython",
    "version": 3
   },
   "file_extension": ".py",
   "mimetype": "text/x-python",
   "name": "python",
   "nbconvert_exporter": "python",
   "pygments_lexer": "ipython3",
   "version": "3.8.3"
  }
 },
 "nbformat": 4,
 "nbformat_minor": 4
}
